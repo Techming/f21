{
  "nbformat": 4,
  "nbformat_minor": 0,
  "metadata": {
    "colab": {
      "name": "lec2.ipynb",
      "provenance": [],
      "collapsed_sections": []
    },
    "kernelspec": {
      "name": "python3",
      "display_name": "Python 3"
    },
    "language_info": {
      "name": "python"
    },
    "accelerator": "GPU"
  },
  "cells": [
    {
      "cell_type": "code",
      "execution_count": null,
      "metadata": {
        "id": "jBOCvi1YB5DX"
      },
      "outputs": [],
      "source": [
        "import numpy as np\n",
        "import torch\n",
        "import time\n",
        "\n",
        "N = 2000\n",
        "A = np.random.normal(size=(3000, N))\n",
        "B = np.random.normal(size=(N, 4000))"
      ]
    },
    {
      "cell_type": "code",
      "source": [
        "(A @ B).shape"
      ],
      "metadata": {
        "colab": {
          "base_uri": "https://localhost:8080/"
        },
        "id": "lWz2SgKzLetM",
        "outputId": "b0cb0d26-ac3d-4bd2-c500-6944a51bf43d"
      },
      "execution_count": null,
      "outputs": [
        {
          "output_type": "execute_result",
          "data": {
            "text/plain": [
              "(3000, 4000)"
            ]
          },
          "metadata": {},
          "execution_count": 2
        }
      ]
    },
    {
      "cell_type": "code",
      "source": [
        "t0 = time.time()\n",
        "C = A @ B\n",
        "t1 = time.time()\n",
        "t1-t0"
      ],
      "metadata": {
        "colab": {
          "base_uri": "https://localhost:8080/"
        },
        "id": "iFYat4NgLnlZ",
        "outputId": "195599b0-2a3a-40c8-df6d-e6957af53fa4"
      },
      "execution_count": null,
      "outputs": [
        {
          "output_type": "execute_result",
          "data": {
            "text/plain": [
              "1.4170105457305908"
            ]
          },
          "metadata": {},
          "execution_count": 3
        }
      ]
    },
    {
      "cell_type": "code",
      "source": [
        "A = torch.from_numpy(A)\n",
        "B = torch.from_numpy(B)"
      ],
      "metadata": {
        "id": "6MDIth-nL1--"
      },
      "execution_count": null,
      "outputs": []
    },
    {
      "cell_type": "code",
      "source": [
        "t0 = time.time()\n",
        "C = A @ B\n",
        "t1 = time.time()\n",
        "t1-t0"
      ],
      "metadata": {
        "colab": {
          "base_uri": "https://localhost:8080/"
        },
        "id": "4mlT10c4L5RE",
        "outputId": "ea074b79-b935-46e2-9288-0fe0a41a8bd5"
      },
      "execution_count": null,
      "outputs": [
        {
          "output_type": "execute_result",
          "data": {
            "text/plain": [
              "1.4248523712158203"
            ]
          },
          "metadata": {},
          "execution_count": 5
        }
      ]
    },
    {
      "cell_type": "code",
      "source": [
        "A.device"
      ],
      "metadata": {
        "colab": {
          "base_uri": "https://localhost:8080/"
        },
        "id": "gRpxxuTfL9qU",
        "outputId": "8a7d4cd6-ddd8-4a89-fb28-8d6b950b4e30"
      },
      "execution_count": null,
      "outputs": [
        {
          "output_type": "execute_result",
          "data": {
            "text/plain": [
              "device(type='cpu')"
            ]
          },
          "metadata": {},
          "execution_count": 6
        }
      ]
    },
    {
      "cell_type": "code",
      "source": [
        "torch.cuda.is_available()"
      ],
      "metadata": {
        "colab": {
          "base_uri": "https://localhost:8080/"
        },
        "id": "DExVROwqMMpr",
        "outputId": "62318df2-c1a0-4971-c10d-8169196beb5d"
      },
      "execution_count": null,
      "outputs": [
        {
          "output_type": "execute_result",
          "data": {
            "text/plain": [
              "True"
            ]
          },
          "metadata": {},
          "execution_count": 7
        }
      ]
    },
    {
      "cell_type": "code",
      "source": [
        "if torch.cuda.is_available():\n",
        "  print(\"I'm on a GPU!  Yay!\")\n",
        "  A = A.to(\"cuda\") # cuda is nvidia's GPU programming framework\n",
        "  B = B.to(\"cuda\")"
      ],
      "metadata": {
        "colab": {
          "base_uri": "https://localhost:8080/"
        },
        "id": "n5zKjHuqMCur",
        "outputId": "7c7539d0-450b-49c4-e771-4cd1996a29be"
      },
      "execution_count": null,
      "outputs": [
        {
          "output_type": "stream",
          "name": "stdout",
          "text": [
            "I'm on a GPU!  Yay!\n"
          ]
        }
      ]
    },
    {
      "cell_type": "code",
      "source": [
        "t0 = time.time()\n",
        "C = A @ B\n",
        "t1 = time.time()\n",
        "t1-t0"
      ],
      "metadata": {
        "colab": {
          "base_uri": "https://localhost:8080/"
        },
        "id": "dFaZZpR4MRrj",
        "outputId": "cd3cbe01-dd2d-4e61-afd0-d97d7bee9203"
      },
      "execution_count": null,
      "outputs": [
        {
          "output_type": "execute_result",
          "data": {
            "text/plain": [
              "0.05991721153259277"
            ]
          },
          "metadata": {},
          "execution_count": 9
        }
      ]
    },
    {
      "cell_type": "code",
      "source": [
        ""
      ],
      "metadata": {
        "id": "pNSRYk_cMp3o"
      },
      "execution_count": null,
      "outputs": []
    }
  ]
}