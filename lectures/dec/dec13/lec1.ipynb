{
 "cells": [
  {
   "cell_type": "markdown",
   "id": "c9d00f9f",
   "metadata": {},
   "source": [
    "# Threads"
   ]
  },
  {
   "cell_type": "code",
   "execution_count": 1,
   "id": "44f3eeb3",
   "metadata": {},
   "outputs": [
    {
     "name": "stdout",
     "output_type": "stream",
     "text": [
      "AB 5\n",
      " 3\n",
      "BA 2\n",
      " 4\n",
      "A 1\n",
      "B 3\n",
      "B 2\n",
      "B 1\n"
     ]
    }
   ],
   "source": [
    "import time\n",
    "from threading import Thread\n",
    "\n",
    "def f(name, n):\n",
    "    for i in range(n):\n",
    "        print(name, n-i)\n",
    "        time.sleep(1)\n",
    "\n",
    "# f(\"A\", 3)\n",
    "# f(\"B\", 5)\n",
    "        \n",
    "t1 = Thread(target=f, args=(\"A\", 3))\n",
    "t2 = Thread(target=f, args=(\"B\", 5))\n",
    "t1.start()\n",
    "t2.start()\n",
    "t1.join()\n",
    "t2.join()"
   ]
  },
  {
   "cell_type": "markdown",
   "id": "aaa9ced8",
   "metadata": {},
   "source": [
    "# Processes\n",
    "\n",
    "How can we do the same computation to every item in a list?"
   ]
  },
  {
   "cell_type": "markdown",
   "id": "079861b0",
   "metadata": {},
   "source": [
    "## 1. For Loop, Append"
   ]
  },
  {
   "cell_type": "code",
   "execution_count": 2,
   "id": "a53fc93d",
   "metadata": {},
   "outputs": [
    {
     "data": {
      "text/plain": [
       "[2, 4, 6]"
      ]
     },
     "execution_count": 2,
     "metadata": {},
     "output_type": "execute_result"
    }
   ],
   "source": [
    "nums = [1, 2, 3]\n",
    "doubles = []\n",
    "for x in nums:\n",
    "    doubles.append(x * 2)\n",
    "doubles"
   ]
  },
  {
   "cell_type": "markdown",
   "id": "2eb04694",
   "metadata": {},
   "source": [
    "## 2. List Comprehension"
   ]
  },
  {
   "cell_type": "code",
   "execution_count": 3,
   "id": "464766e6",
   "metadata": {},
   "outputs": [
    {
     "data": {
      "text/plain": [
       "[2, 4, 6]"
      ]
     },
     "execution_count": 3,
     "metadata": {},
     "output_type": "execute_result"
    }
   ],
   "source": [
    "[x * 2 for x in nums]"
   ]
  },
  {
   "cell_type": "markdown",
   "id": "fecfb3a6",
   "metadata": {},
   "source": [
    "## 3. Series.apply with lambda"
   ]
  },
  {
   "cell_type": "code",
   "execution_count": 4,
   "id": "544a5b4c",
   "metadata": {},
   "outputs": [
    {
     "data": {
      "text/plain": [
       "0    2\n",
       "1    4\n",
       "2    6\n",
       "dtype: int64"
      ]
     },
     "execution_count": 4,
     "metadata": {},
     "output_type": "execute_result"
    }
   ],
   "source": [
    "import pandas as pd\n",
    "pd.Series(nums).apply(lambda x: 2*x)"
   ]
  },
  {
   "cell_type": "markdown",
   "id": "144d8fbe",
   "metadata": {},
   "source": [
    "## 4. map with lambda"
   ]
  },
  {
   "cell_type": "code",
   "execution_count": 5,
   "id": "9e2ee655",
   "metadata": {},
   "outputs": [
    {
     "data": {
      "text/plain": [
       "[2, 4, 6]"
      ]
     },
     "execution_count": 5,
     "metadata": {},
     "output_type": "execute_result"
    }
   ],
   "source": [
    "list(map(lambda x: 2*x, nums))"
   ]
  },
  {
   "cell_type": "markdown",
   "id": "6737bdaa",
   "metadata": {},
   "source": [
    "## 5. map with named function"
   ]
  },
  {
   "cell_type": "code",
   "execution_count": 6,
   "id": "b5c7784c",
   "metadata": {},
   "outputs": [
    {
     "data": {
      "text/plain": [
       "0.08368492126464844"
      ]
     },
     "execution_count": 6,
     "metadata": {},
     "output_type": "execute_result"
    }
   ],
   "source": [
    "def double(x):\n",
    "    return 2*x\n",
    "\n",
    "t0 = time.time()\n",
    "list(map(double, nums))\n",
    "t1 = time.time()\n",
    "(t1-t0) * 1000 # milliseconds"
   ]
  },
  {
   "cell_type": "markdown",
   "id": "7d92bcaf",
   "metadata": {},
   "source": [
    "## 6. pool map"
   ]
  },
  {
   "cell_type": "code",
   "execution_count": 7,
   "id": "63fc0677",
   "metadata": {},
   "outputs": [
    {
     "name": "stdout",
     "output_type": "stream",
     "text": [
      "[2, 4, 6]\n"
     ]
    },
    {
     "data": {
      "text/plain": [
       "67.43073463439941"
      ]
     },
     "execution_count": 7,
     "metadata": {},
     "output_type": "execute_result"
    }
   ],
   "source": [
    "from multiprocessing import Pool\n",
    "\n",
    "t0 = time.time()\n",
    "with Pool(4) as p:  # pool size defaults to number of cores\n",
    "    result = list(p.map(double, nums))\n",
    "print(result)\n",
    "t1 = time.time()\n",
    "(t1-t0) * 1000 # milliseconds"
   ]
  },
  {
   "cell_type": "markdown",
   "id": "569f7384",
   "metadata": {},
   "source": [
    "# Parallel Download"
   ]
  },
  {
   "cell_type": "code",
   "execution_count": 8,
   "id": "19b75be5",
   "metadata": {},
   "outputs": [
    {
     "data": {
      "text/plain": [
       "'<html><body>\\n<h1>Node: 0</h1>\\n<h3>Children:</h3>\\n<ul>\\n<li><a href=\"16.html\">16</a><li><a href=\"17.html\">17</a><li><a href=\"6.html\">6</a><li><a href=\"12.html\">12</a></ul>\\n</body></html>\\n'"
      ]
     },
     "execution_count": 8,
     "metadata": {},
     "output_type": "execute_result"
    }
   ],
   "source": [
    "import requests\n",
    "url = \"https://tyler.caraza-harter.com/cs320/crawl/practice7/0.html\"\n",
    "r = requests.get(url)\n",
    "r.raise_for_status()\n",
    "r.text"
   ]
  },
  {
   "cell_type": "code",
   "execution_count": 9,
   "id": "fe9a0159",
   "metadata": {},
   "outputs": [
    {
     "data": {
      "text/plain": [
       "'<html><body>\\n<h1>Node: 1</h1>\\n<h3>Children:</h3>\\n<ul>\\n<li><a href=\"0.html\">0</a><li><a href=\"2.html\">2</a></ul>\\n</body></html>\\n'"
      ]
     },
     "execution_count": 9,
     "metadata": {},
     "output_type": "execute_result"
    }
   ],
   "source": [
    "def download(page_num):\n",
    "    url = f\"https://tyler.caraza-harter.com/cs320/crawl/practice7/{page_num}.html\"\n",
    "    r = requests.get(url)\n",
    "    r.raise_for_status()\n",
    "    return r.text\n",
    "    \n",
    "download(1)"
   ]
  },
  {
   "cell_type": "code",
   "execution_count": 13,
   "id": "be53cd3a",
   "metadata": {},
   "outputs": [
    {
     "data": {
      "text/plain": [
       "0.3741741180419922"
      ]
     },
     "execution_count": 13,
     "metadata": {},
     "output_type": "execute_result"
    }
   ],
   "source": [
    "t0 = time.time()\n",
    "\n",
    "\n",
    "with Pool(10) as p:  # pool size defaults to number of cores\n",
    "    result = list(p.map(download, range(18)))\n",
    "    \n",
    "    \n",
    "t1 = time.time()\n",
    "t1-t0"
   ]
  },
  {
   "cell_type": "markdown",
   "id": "c70ab939",
   "metadata": {},
   "source": [
    "# Bad version 2"
   ]
  },
  {
   "cell_type": "code",
   "execution_count": 20,
   "id": "858ac395",
   "metadata": {},
   "outputs": [
    {
     "data": {
      "text/plain": [
       "1219"
      ]
     },
     "execution_count": 20,
     "metadata": {},
     "output_type": "execute_result"
    }
   ],
   "source": [
    "import os\n",
    "os.getpid() # PID => Process ID"
   ]
  },
  {
   "cell_type": "code",
   "execution_count": 24,
   "id": "9628f1a5",
   "metadata": {},
   "outputs": [
    {
     "name": "stdout",
     "output_type": "stream",
     "text": [
      "1842 1841 dict_keys([0])\n",
      "dict_keys([3])\n",
      "1841 dict_keys([0, 1])\n",
      "1842 dict_keys([3, 4])\n",
      "1841 dict_keys([0, 1, 2])\n",
      "1842 dict_keys([3, 4, 5])\n",
      "1841 dict_keys([0, 1, 2, 6])\n",
      "1842 dict_keys([3, 4, 5, 9])\n",
      "1841 dict_keys([0, 1, 2, 6, 7])\n",
      "1842 dict_keys([3, 4, 5, 9, 10])\n",
      "1841 dict_keys([0, 1, 2, 6, 7, 8])\n",
      "1842 dict_keys([3, 4, 5, 9, 10, 11])\n",
      "1841 dict_keys([0, 1, 2, 6, 7, 8, 12])\n",
      "1842 dict_keys([3, 4, 5, 9, 10, 11, 15])\n",
      "1841 dict_keys([0, 1, 2, 6, 7, 8, 12, 13])\n",
      "1842 dict_keys([3, 4, 5, 9, 10, 11, 15, 16])\n",
      "1841 dict_keys([0, 1, 2, 6, 7, 8, 12, 13, 14])\n",
      "1842 dict_keys([3, 4, 5, 9, 10, 11, 15, 16, 17])\n",
      "1219 {}\n"
     ]
    }
   ],
   "source": [
    "# oops!  global variables are per process!\n",
    "pages = {}\n",
    "\n",
    "def download_to_global(page_num):\n",
    "    global pages\n",
    "    url = f\"https://tyler.caraza-harter.com/cs320/crawl/practice7/{page_num}.html\"\n",
    "    r = requests.get(url)\n",
    "    r.raise_for_status()\n",
    "    pages[page_num] = r.text\n",
    "    print(os.getpid(), pages.keys())\n",
    "    \n",
    "with Pool(2) as p:  # pool size defaults to number of cores\n",
    "    p.map(download_to_global, range(18))\n",
    "    \n",
    "print(os.getpid(), pages)"
   ]
  },
  {
   "cell_type": "code",
   "execution_count": null,
   "id": "369bae1c",
   "metadata": {},
   "outputs": [],
   "source": []
  }
 ],
 "metadata": {
  "kernelspec": {
   "display_name": "Python 3 (ipykernel)",
   "language": "python",
   "name": "python3"
  },
  "language_info": {
   "codemirror_mode": {
    "name": "ipython",
    "version": 3
   },
   "file_extension": ".py",
   "mimetype": "text/x-python",
   "name": "python",
   "nbconvert_exporter": "python",
   "pygments_lexer": "ipython3",
   "version": "3.8.10"
  }
 },
 "nbformat": 4,
 "nbformat_minor": 5
}
