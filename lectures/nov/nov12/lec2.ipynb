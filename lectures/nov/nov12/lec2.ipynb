{
 "cells": [
  {
   "cell_type": "code",
   "execution_count": 12,
   "id": "ac7f8191",
   "metadata": {},
   "outputs": [],
   "source": [
    "# 1. download HTML files\n",
    "import os\n",
    "import requests\n",
    "\n",
    "if not os.path.exists(\"html\"):\n",
    "    os.mkdir(\"html\")\n",
    "    \n",
    "    for i in range(10):\n",
    "        url = \"https://www.cityofmadison.com/fire/daily-reports?page=\" + str(i)\n",
    "        print(url)\n",
    "        response = requests.get(url)\n",
    "        response.raise_for_status()\n",
    "        with open(os.path.join(\"html\", str(i)+\".html\"), \"w\") as f:\n",
    "            f.write(response.text)"
   ]
  },
  {
   "cell_type": "code",
   "execution_count": 41,
   "id": "24519336",
   "metadata": {},
   "outputs": [
    {
     "data": {
      "text/html": [
       "<div>\n",
       "<style scoped>\n",
       "    .dataframe tbody tr th:only-of-type {\n",
       "        vertical-align: middle;\n",
       "    }\n",
       "\n",
       "    .dataframe tbody tr th {\n",
       "        vertical-align: top;\n",
       "    }\n",
       "\n",
       "    .dataframe thead th {\n",
       "        text-align: right;\n",
       "    }\n",
       "</style>\n",
       "<table border=\"1\" class=\"dataframe\">\n",
       "  <thead>\n",
       "    <tr style=\"text-align: right;\">\n",
       "      <th></th>\n",
       "      <th>index</th>\n",
       "      <th>Incident</th>\n",
       "      <th>Date</th>\n",
       "      <th>Incident Type</th>\n",
       "      <th>Address</th>\n",
       "    </tr>\n",
       "  </thead>\n",
       "  <tbody>\n",
       "    <tr>\n",
       "      <th>0</th>\n",
       "      <td>0</td>\n",
       "      <td>One Injured Following 8-foot Fall Into Open Grate</td>\n",
       "      <td>11/01/2021</td>\n",
       "      <td>Special Rescue</td>\n",
       "      <td>3800 Block Regent StreetMadison, WI</td>\n",
       "    </tr>\n",
       "    <tr>\n",
       "      <th>1</th>\n",
       "      <td>1</td>\n",
       "      <td>Fire Caused By Discarded Ashes Damages East Si...</td>\n",
       "      <td>11/01/2021</td>\n",
       "      <td>Trash/Rubbish</td>\n",
       "      <td>3800 Block Clover LaneMadison, WI</td>\n",
       "    </tr>\n",
       "    <tr>\n",
       "      <th>2</th>\n",
       "      <td>2</td>\n",
       "      <td>One Person Rescued From Lake Monona</td>\n",
       "      <td>10/31/2021</td>\n",
       "      <td>Lake Rescue</td>\n",
       "      <td>10 Block John Nolen DriveMadison, WI</td>\n",
       "    </tr>\n",
       "    <tr>\n",
       "      <th>3</th>\n",
       "      <td>3</td>\n",
       "      <td>Dog perishes in early morning fire</td>\n",
       "      <td>10/29/2021</td>\n",
       "      <td>Structure</td>\n",
       "      <td>2900 Block Monroe StMadison, WI</td>\n",
       "    </tr>\n",
       "    <tr>\n",
       "      <th>4</th>\n",
       "      <td>4</td>\n",
       "      <td>Natural Gas Leak Identified In S. Stoughton Ro...</td>\n",
       "      <td>10/20/2021</td>\n",
       "      <td>Gas Leak</td>\n",
       "      <td>2600 Block S. Stoughton RoadMadison, WI</td>\n",
       "    </tr>\n",
       "  </tbody>\n",
       "</table>\n",
       "</div>"
      ],
      "text/plain": [
       "   index                                           Incident        Date  \\\n",
       "0      0  One Injured Following 8-foot Fall Into Open Grate  11/01/2021   \n",
       "1      1  Fire Caused By Discarded Ashes Damages East Si...  11/01/2021   \n",
       "2      2                One Person Rescued From Lake Monona  10/31/2021   \n",
       "3      3                 Dog perishes in early morning fire  10/29/2021   \n",
       "4      4  Natural Gas Leak Identified In S. Stoughton Ro...  10/20/2021   \n",
       "\n",
       "    Incident Type                                  Address  \n",
       "0  Special Rescue      3800 Block Regent StreetMadison, WI  \n",
       "1   Trash/Rubbish        3800 Block Clover LaneMadison, WI  \n",
       "2     Lake Rescue     10 Block John Nolen DriveMadison, WI  \n",
       "3       Structure          2900 Block Monroe StMadison, WI  \n",
       "4        Gas Leak  2600 Block S. Stoughton RoadMadison, WI  "
      ]
     },
     "execution_count": 41,
     "metadata": {},
     "output_type": "execute_result"
    }
   ],
   "source": [
    "# 2. HTML to DataFrame\n",
    "from bs4 import BeautifulSoup\n",
    "import pandas as pd\n",
    "\n",
    "def html_to_df(path):\n",
    "    with open(path) as f:\n",
    "        html = f.read()\n",
    "\n",
    "    page = BeautifulSoup(html)\n",
    "\n",
    "    # find table\n",
    "    for div in page.find_all(\"div\"):\n",
    "        if 'pseudo-table' in div.attrs.get(\"class\", []):\n",
    "            table = div\n",
    "            break\n",
    "\n",
    "    # find rows in table\n",
    "    rows = []\n",
    "    for div in table.find_all(\"div\"):\n",
    "        if 'row' in div.attrs.get(\"class\", []):\n",
    "            row = []\n",
    "            for cell in div.find_all(\"div\"):\n",
    "                cell = cell.get_text().split(\":\")[-1].strip()\n",
    "                row.append(cell)\n",
    "            rows.append(row[:4])\n",
    "\n",
    "    return pd.DataFrame(rows[1:], columns=rows[0])\n",
    "\n",
    "dfs = []\n",
    "for i in range(10):\n",
    "    df = html_to_df(os.path.join(\"html\", str(i)+\".html\"))\n",
    "    dfs.append(df)\n",
    "df = pd.concat(dfs).reset_index()\n",
    "df.head()"
   ]
  },
  {
   "cell_type": "code",
   "execution_count": 43,
   "id": "fbe6991e",
   "metadata": {},
   "outputs": [
    {
     "data": {
      "text/plain": [
       "array([[<shapely.geometry.point.Point object at 0x7fa01e382a00>,\n",
       "        'Computer Sciences and Statistics, 1210, West Dayton Street, 53706, West Dayton Street, Madison, WI, United States']],\n",
       "      dtype=object)"
      ]
     },
     "execution_count": 43,
     "metadata": {},
     "output_type": "execute_result"
    }
   ],
   "source": [
    "# 3. geocoding: address => lat/lon\n",
    "import geopandas as gpd\n",
    "\n",
    "gpd.tools.geocode(\"1210 W. Dayton Street\").values"
   ]
  },
  {
   "cell_type": "code",
   "execution_count": 49,
   "id": "2d476c0f",
   "metadata": {},
   "outputs": [
    {
     "data": {
      "text/plain": [
       "array([[<shapely.geometry.point.Point object at 0x7fa01e57df10>,\n",
       "        'Computer Sciences and Statistics, 1210, West Dayton Street, South Campus, Bowens Addition, Madison, Dane County, Wisconsin, 53706, United States']],\n",
       "      dtype=object)"
      ]
     },
     "execution_count": 49,
     "metadata": {},
     "output_type": "execute_result"
    }
   ],
   "source": [
    "# open street maps (provider is nominatim)\n",
    "gpd.tools.geocode(\"1210 Dayton Street; Madison, WI\",\n",
    "                  provider=\"nominatim\", user_agent=\"cs320-tyler\").values"
   ]
  },
  {
   "cell_type": "code",
   "execution_count": 55,
   "id": "ec1a76f7",
   "metadata": {},
   "outputs": [
    {
     "data": {
      "text/html": [
       "<div>\n",
       "<style scoped>\n",
       "    .dataframe tbody tr th:only-of-type {\n",
       "        vertical-align: middle;\n",
       "    }\n",
       "\n",
       "    .dataframe tbody tr th {\n",
       "        vertical-align: top;\n",
       "    }\n",
       "\n",
       "    .dataframe thead th {\n",
       "        text-align: right;\n",
       "    }\n",
       "</style>\n",
       "<table border=\"1\" class=\"dataframe\">\n",
       "  <thead>\n",
       "    <tr style=\"text-align: right;\">\n",
       "      <th></th>\n",
       "      <th>index</th>\n",
       "      <th>Incident</th>\n",
       "      <th>Date</th>\n",
       "      <th>Incident Type</th>\n",
       "      <th>Address</th>\n",
       "    </tr>\n",
       "  </thead>\n",
       "  <tbody>\n",
       "    <tr>\n",
       "      <th>0</th>\n",
       "      <td>0</td>\n",
       "      <td>One Injured Following 8-foot Fall Into Open Grate</td>\n",
       "      <td>11/01/2021</td>\n",
       "      <td>Special Rescue</td>\n",
       "      <td>3800 Regent Street; Madison, WI</td>\n",
       "    </tr>\n",
       "    <tr>\n",
       "      <th>1</th>\n",
       "      <td>1</td>\n",
       "      <td>Fire Caused By Discarded Ashes Damages East Si...</td>\n",
       "      <td>11/01/2021</td>\n",
       "      <td>Trash/Rubbish</td>\n",
       "      <td>3800 Clover Lane; Madison, WI</td>\n",
       "    </tr>\n",
       "    <tr>\n",
       "      <th>2</th>\n",
       "      <td>2</td>\n",
       "      <td>One Person Rescued From Lake Monona</td>\n",
       "      <td>10/31/2021</td>\n",
       "      <td>Lake Rescue</td>\n",
       "      <td>10 John Nolen Drive; Madison, WI</td>\n",
       "    </tr>\n",
       "    <tr>\n",
       "      <th>3</th>\n",
       "      <td>3</td>\n",
       "      <td>Dog perishes in early morning fire</td>\n",
       "      <td>10/29/2021</td>\n",
       "      <td>Structure</td>\n",
       "      <td>2900 Monroe St; Madison, WI</td>\n",
       "    </tr>\n",
       "    <tr>\n",
       "      <th>4</th>\n",
       "      <td>4</td>\n",
       "      <td>Natural Gas Leak Identified In S. Stoughton Ro...</td>\n",
       "      <td>10/20/2021</td>\n",
       "      <td>Gas Leak</td>\n",
       "      <td>2600 S. Stoughton Road; Madison, WI</td>\n",
       "    </tr>\n",
       "    <tr>\n",
       "      <th>...</th>\n",
       "      <td>...</td>\n",
       "      <td>...</td>\n",
       "      <td>...</td>\n",
       "      <td>...</td>\n",
       "      <td>...</td>\n",
       "    </tr>\n",
       "    <tr>\n",
       "      <th>95</th>\n",
       "      <td>5</td>\n",
       "      <td>One Injured In Flash Fire At Oil Change Facility</td>\n",
       "      <td>02/05/2021</td>\n",
       "      <td>Explosion</td>\n",
       "      <td>3700 Milwaukee Street; Madison, WI</td>\n",
       "    </tr>\n",
       "    <tr>\n",
       "      <th>96</th>\n",
       "      <td>6</td>\n",
       "      <td>Cooking Fire Injures One</td>\n",
       "      <td>01/31/2021</td>\n",
       "      <td>Cooking</td>\n",
       "      <td>7100 Tree Lane; Madison, WI</td>\n",
       "    </tr>\n",
       "    <tr>\n",
       "      <th>97</th>\n",
       "      <td>7</td>\n",
       "      <td>Carbon Monoxide Buildup the Result of Snow Blo...</td>\n",
       "      <td>01/26/2021</td>\n",
       "      <td>Carbon Monoxide</td>\n",
       "      <td>2100 Pike Drive; Madison, WI</td>\n",
       "    </tr>\n",
       "    <tr>\n",
       "      <th>98</th>\n",
       "      <td>8</td>\n",
       "      <td>Worker Seriously Injured Following Fall At Con...</td>\n",
       "      <td>01/25/2021</td>\n",
       "      <td>EMS</td>\n",
       "      <td>N. Ingersoll Street &amp; E. Mifflin Street; Madis...</td>\n",
       "    </tr>\n",
       "    <tr>\n",
       "      <th>99</th>\n",
       "      <td>9</td>\n",
       "      <td>Fire On Oscar Avenue Under Investigation</td>\n",
       "      <td>01/19/2021</td>\n",
       "      <td>Structure</td>\n",
       "      <td>900 Oscar Avenue; Madison, WI</td>\n",
       "    </tr>\n",
       "  </tbody>\n",
       "</table>\n",
       "<p>100 rows × 5 columns</p>\n",
       "</div>"
      ],
      "text/plain": [
       "    index                                           Incident        Date  \\\n",
       "0       0  One Injured Following 8-foot Fall Into Open Grate  11/01/2021   \n",
       "1       1  Fire Caused By Discarded Ashes Damages East Si...  11/01/2021   \n",
       "2       2                One Person Rescued From Lake Monona  10/31/2021   \n",
       "3       3                 Dog perishes in early morning fire  10/29/2021   \n",
       "4       4  Natural Gas Leak Identified In S. Stoughton Ro...  10/20/2021   \n",
       "..    ...                                                ...         ...   \n",
       "95      5   One Injured In Flash Fire At Oil Change Facility  02/05/2021   \n",
       "96      6                           Cooking Fire Injures One  01/31/2021   \n",
       "97      7  Carbon Monoxide Buildup the Result of Snow Blo...  01/26/2021   \n",
       "98      8  Worker Seriously Injured Following Fall At Con...  01/25/2021   \n",
       "99      9           Fire On Oscar Avenue Under Investigation  01/19/2021   \n",
       "\n",
       "      Incident Type                                            Address  \n",
       "0    Special Rescue                    3800 Regent Street; Madison, WI  \n",
       "1     Trash/Rubbish                      3800 Clover Lane; Madison, WI  \n",
       "2       Lake Rescue                   10 John Nolen Drive; Madison, WI  \n",
       "3         Structure                        2900 Monroe St; Madison, WI  \n",
       "4          Gas Leak                2600 S. Stoughton Road; Madison, WI  \n",
       "..              ...                                                ...  \n",
       "95        Explosion                 3700 Milwaukee Street; Madison, WI  \n",
       "96          Cooking                        7100 Tree Lane; Madison, WI  \n",
       "97  Carbon Monoxide                       2100 Pike Drive; Madison, WI  \n",
       "98              EMS  N. Ingersoll Street & E. Mifflin Street; Madis...  \n",
       "99        Structure                      900 Oscar Avenue; Madison, WI  \n",
       "\n",
       "[100 rows x 5 columns]"
      ]
     },
     "execution_count": 55,
     "metadata": {},
     "output_type": "execute_result"
    }
   ],
   "source": [
    "df[\"Address\"] = df[\"Address\"].str.replace(\"Madison\", \"; Madison\").str.replace(\" Block \", \" \")\n",
    "df"
   ]
  },
  {
   "cell_type": "code",
   "execution_count": 56,
   "id": "a210082b",
   "metadata": {},
   "outputs": [
    {
     "data": {
      "text/html": [
       "<div>\n",
       "<style scoped>\n",
       "    .dataframe tbody tr th:only-of-type {\n",
       "        vertical-align: middle;\n",
       "    }\n",
       "\n",
       "    .dataframe tbody tr th {\n",
       "        vertical-align: top;\n",
       "    }\n",
       "\n",
       "    .dataframe thead th {\n",
       "        text-align: right;\n",
       "    }\n",
       "</style>\n",
       "<table border=\"1\" class=\"dataframe\">\n",
       "  <thead>\n",
       "    <tr style=\"text-align: right;\">\n",
       "      <th></th>\n",
       "      <th>geometry</th>\n",
       "      <th>address</th>\n",
       "    </tr>\n",
       "  </thead>\n",
       "  <tbody>\n",
       "    <tr>\n",
       "      <th>0</th>\n",
       "      <td>POINT (-89.43876 43.06809)</td>\n",
       "      <td>3800, Regent Street, VanChaMasShe, Madison, Da...</td>\n",
       "    </tr>\n",
       "    <tr>\n",
       "      <th>1</th>\n",
       "      <td>POINT (-89.32256 43.08676)</td>\n",
       "      <td>3800, Clover Lane, Madison, Dane County, Wisco...</td>\n",
       "    </tr>\n",
       "    <tr>\n",
       "      <th>2</th>\n",
       "      <td>POINT (-89.38597 43.06628)</td>\n",
       "      <td>John Nolen Drive, Bassett, Madison, Dane Count...</td>\n",
       "    </tr>\n",
       "    <tr>\n",
       "      <th>3</th>\n",
       "      <td>POINT (-89.43067 43.05612)</td>\n",
       "      <td>2900, Monroe Street, Dudgeon-Monroe, Madison, ...</td>\n",
       "    </tr>\n",
       "    <tr>\n",
       "      <th>4</th>\n",
       "      <td>POINT (-89.30914 43.05826)</td>\n",
       "      <td>2600, South Stoughton Road, Glendale Townhouse...</td>\n",
       "    </tr>\n",
       "  </tbody>\n",
       "</table>\n",
       "</div>"
      ],
      "text/plain": [
       "                     geometry  \\\n",
       "0  POINT (-89.43876 43.06809)   \n",
       "1  POINT (-89.32256 43.08676)   \n",
       "2  POINT (-89.38597 43.06628)   \n",
       "3  POINT (-89.43067 43.05612)   \n",
       "4  POINT (-89.30914 43.05826)   \n",
       "\n",
       "                                             address  \n",
       "0  3800, Regent Street, VanChaMasShe, Madison, Da...  \n",
       "1  3800, Clover Lane, Madison, Dane County, Wisco...  \n",
       "2  John Nolen Drive, Bassett, Madison, Dane Count...  \n",
       "3  2900, Monroe Street, Dudgeon-Monroe, Madison, ...  \n",
       "4  2600, South Stoughton Road, Glendale Townhouse...  "
      ]
     },
     "execution_count": 56,
     "metadata": {},
     "output_type": "execute_result"
    }
   ],
   "source": [
    "gpd.tools.geocode(df[\"Address\"].iloc[:5],\n",
    "                  provider=\"nominatim\", user_agent=\"cs320-tyler\")"
   ]
  },
  {
   "cell_type": "code",
   "execution_count": 62,
   "id": "56d37a8c",
   "metadata": {},
   "outputs": [
    {
     "name": "stdout",
     "output_type": "stream",
     "text": [
      "3800 Regent Street; Madison, WI POINT (-89.438756 43.068087)\n",
      "3800 Clover Lane; Madison, WI POINT (-89.322563 43.086765)\n",
      "10 John Nolen Drive; Madison, WI POINT (-89.38597179999999 43.06628)\n",
      "2900 Monroe St; Madison, WI POINT (-89.430666 43.056119)\n",
      "2600 S. Stoughton Road; Madison, WI POINT (-89.30913605303704 43.05826223453485)\n",
      "5500 Denton Place; Madison, WI POINT (-89.473569 43.030882)\n",
      "2500 Independence Lane; Madison, WI POINT (-89.30818748575575 43.13135104536706)\n",
      "1300 Mendota Street; Madison, WI POINT (-89.31761253115809 43.11602884480136)\n",
      "200 N. First Street; Madison, WI GEOMETRYCOLLECTION EMPTY\n",
      "2300 S. Park Street; Madison, WI POINT (-89.39549008993453 43.04116985)\n",
      "6700 Jacobs Way; Madison, WI POINT (-89.4969163424731 43.03811871431542)\n",
      "8200 Highview Drive ",
      "; Madison, WI POINT (-89.523048 43.053662)\n",
      "1300 N. Sherman Avenue; Madison, WI POINT (-89.36389800000001 43.114368)\n",
      "Milwaukee Street & West Corporate Drive; Madison, WI GEOMETRYCOLLECTION EMPTY\n",
      "2200 Independence Lane; Madison, WI POINT (-89.30877599999999 43.128309)\n",
      "3800 East Washington Avenue; Madison, WI POINT (-89.32142399999999 43.119045)\n",
      "10 East Gilman Street; Madison, WI POINT (-89.38857106339401 43.07835174133279)\n",
      "7600 Radcliffe Drive; Madison, WI POINT (-89.51749700000001 43.059033)\n",
      "1200 McKenna Blvd; Madison, WI POINT (-89.4968538 43.03187)\n",
      "Waterbend Dr. & S. Pleasant View Road; Madison, WI GEOMETRYCOLLECTION EMPTY\n",
      "1500 University Avenue; Madison, WI POINT (-89.4437393 43.0751614)\n",
      "2800 Atwood Avenue; Madison, WI POINT (-89.343355 43.093964)\n",
      "Lake Mendota; Madison, WI POINT (-89.41598569994139 43.1145529)\n",
      "10 N. Sixth Street; Madison, WI GEOMETRYCOLLECTION EMPTY\n",
      "1200 McKenna Blvd; Madison, WI POINT (-89.4968538 43.03187)\n",
      "6700 Raymond Road; Madison, WI POINT (-89.497096 43.031889)\n",
      "4800 Hayes Road; Madison, WI POINT (-89.3002657 43.1366842)\n",
      "300 Crocus Circle; Madison, WI POINT (-89.38892300000001 43.039883)\n",
      "1200 S. Midvale Blvd; Madison, WI POINT (-89.451216 43.039847)\n",
      "100 State Street; Madison, WI 53703 POINT (-89.38700556844496 43.07490205000001)\n",
      "Raymond Road & Frisch Road; Madison, WI GEOMETRYCOLLECTION EMPTY\n",
      "3700 Sussex Lane; Madison, WI POINT (-89.32131187878787 43.09460175757576)\n",
      "1700 Sachtjen St; Madison, WI 53704 POINT (-89.363437 43.125038)\n",
      "1100 Olin-Turville Court; Madison, WI POINT (-89.37853130000001 43.0532554)\n",
      "2400 Monterrey Drive; Madison, WI POINT (-86.56657800000001 34.725597)\n",
      "1800 Helena Street; Madison, WI POINT (-89.35518617301399 43.08959744265086)\n",
      "1800 S. Thompson Drive; Madison, WI POINT (-89.28300400000001 43.073431)\n",
      "600 North Street; Madison, WI POINT (-89.351359 43.107114)\n",
      "100 Landgon Street; Madison, WI GEOMETRYCOLLECTION EMPTY\n",
      "300 Alton Drive; Madison, WI POINT (-89.277305 43.096224)\n",
      "1100 Shasta Drive; Madison, WI POINT (-89.37803700000001 43.132655)\n",
      "Jubilee Circle; Madison, WI POINT (-89.2697445 43.0925533)\n",
      "4700 STAR SPANGLED TRL; Madison, WI 53718 POINT (-89.293812 43.0298211)\n",
      "1100 Moorland Road; Madison, WI POINT (-89.36515183744494 43.0330968426394)\n",
      "Lake Monona; Madison, WI POINT (-89.36422522287384 43.067779)\n",
      "1200 N. Woodward Drive; Madison, WI GEOMETRYCOLLECTION EMPTY\n",
      "2000 Van Hise Avenue; Madison, WI POINT (-89.419845 43.069612)\n",
      "1100 Morraine View Drive; Madison, WI POINT (-89.506378 43.041973)\n",
      "2500 E. Dayton Street; Madison, WI POINT (-89.351556 43.101153)\n",
      "500 State Street; Madison, WI POINT (-89.393513 43.074912)\n",
      "Lake Monona; Madison, WI POINT (-89.36422522287384 43.067779)\n",
      "2700 University Ave; Madison, WI 53705 POINT (-89.4541772 43.0752704)\n",
      "7900 Tree Lane; Madison, WI 53717 POINT (-89.52003499999999 43.063585)\n",
      "1500 Wheeler Road; Madison, WI POINT (-89.3683 43.148261)\n",
      "1000 Moorland Rd; Madison, WI 53713 POINT (-89.368725 43.034575)\n",
      "2600 Pheasant Ridge Trail; Madison, WI POINT (-89.38503407928503 43.03661798392554)\n",
      "5200 South Hill Drive; Madison, WI POINT (-89.46797622507792 43.06339722754147)\n",
      "4300 Doncaster Drive; Madison, WI POINT (-89.44875999999999 43.036202)\n",
      "1900 Loretta Lane; Madison, WI POINT (-89.293752 43.071365)\n",
      "Verona Road & Atticus Way; Madison, WI GEOMETRYCOLLECTION EMPTY\n",
      "Lake Monona; Madison, WI POINT (-89.36422522287384 43.067779)\n",
      "6200 Dominion Dr; Madison, WI 53718 POINT (-89.272797 43.091692)\n",
      "6300 Hartford Drive; Madison, WI POINT (-89.493346 43.015021)\n",
      "7600 Carrington Drive; Madison, WI POINT (-89.517522 43.058055)\n",
      "4300 Crested Owl Lane; Madison, WI GEOMETRYCOLLECTION EMPTY\n",
      " GEOMETRYCOLLECTION EMPTY\n",
      "4100 Vidon,  Dr; Madison, WI 53704 GEOMETRYCOLLECTION EMPTY\n",
      "1600 Kings Mill Way; Madison, WI 53718 POINT (-89.276568 43.0766)\n",
      "4200 Anderson Rd; Madison, WI 53704 POINT (-89.3189181 43.1718901)\n",
      "5900 Research Park Blvd; Madison, WI POINT (-89.48258235822549 43.05557852995125)\n",
      "900 Nancy Lane; Madison, WI POINT (-89.382743 43.142012)\n",
      "200 West Beltline Highway; Madison, WI POINT (-89.522803 43.062158)\n",
      "1500 Wendy Lane; Madison, WI POINT (-89.294703 43.076934)\n",
      "1900 Bartillon Drive; Madison, WI POINT (-89.32416499999999 43.12389)\n",
      "E. Washington Ave. & N. Dickinson St; Madison, WI GEOMETRYCOLLECTION EMPTY\n",
      "600 S. Orchard Street; Madison, WI POINT (-89.40703291891892 43.060837)\n",
      "100 S. Butler Street; Madison, WI POINT (-89.38005699999999 43.075756)\n",
      "6500 Raymond Road; Madison, WI POINT (-89.49373799999999 43.03192)\n",
      "2300 E. Dayton Street; Madison, WI POINT (-89.354562 43.098885)\n",
      "1100 Starlight Dr; Madison, WI 53711 POINT (-89.45763137102969 43.04073295350931)\n",
      "800 Williamson Street; Madison, WI POINT (-89.371432 43.078372)\n",
      "4200 Beltline Highway; Madison, WI POINT (-89.4490674 43.035033)\n",
      "1500 Troy Drive; Madison, WI POINT (-89.36913 43.133417)\n",
      "1500 McKenna Blvd; Madison, WI POINT (-89.49808720151869 43.0368603049033)\n",
      "3500 Portage Road; Madison, WI POINT (-89.312915 43.13871)\n",
      "U.S. Highway 12 EB & Fish Hatchery Road; Madison, WI GEOMETRYCOLLECTION EMPTY\n",
      "Northridge Terrace; Madison, WI POINT (-89.38667599999999 43.139351)\n",
      "Lake Monona; Madison, WI POINT (-89.36422522287384 43.067779)\n",
      "100 W. Lakeside Street; Madison, WI POINT (-89.38456600000001 43.056095)\n",
      "1400 Theresa Terrace; Madison, WI POINT (-89.489901 43.038024)\n",
      "800 N. Gammon Road; Madison, WI POINT (-89.502465 43.078589)\n",
      "400 West Shore Drive; Madison, WI POINT (-89.399837564168 43.06283192493355)\n",
      "1800 Cameron Drive; Madison, WI POINT (-89.483172 43.033668)\n",
      "1000 Wisconsin Place; Madison, WI GEOMETRYCOLLECTION EMPTY\n",
      " GEOMETRYCOLLECTION EMPTY\n",
      "3700 Milwaukee Street; Madison, WI POINT (-89.343378 43.099969)\n",
      "7100 Tree Lane; Madison, WI POINT (-89.50503014719418 43.06537868114141)\n",
      "2100 Pike Drive; Madison, WI POINT (-89.41753 43.029675)\n",
      "N. Ingersoll Street & E. Mifflin Street; Madison, WI GEOMETRYCOLLECTION EMPTY\n",
      "900 Oscar Avenue; Madison, WI POINT (-89.3553574 43.108599)\n"
     ]
    },
    {
     "data": {
      "text/html": [
       "<div>\n",
       "<style scoped>\n",
       "    .dataframe tbody tr th:only-of-type {\n",
       "        vertical-align: middle;\n",
       "    }\n",
       "\n",
       "    .dataframe tbody tr th {\n",
       "        vertical-align: top;\n",
       "    }\n",
       "\n",
       "    .dataframe thead th {\n",
       "        text-align: right;\n",
       "    }\n",
       "</style>\n",
       "<table border=\"1\" class=\"dataframe\">\n",
       "  <thead>\n",
       "    <tr style=\"text-align: right;\">\n",
       "      <th></th>\n",
       "      <th>index</th>\n",
       "      <th>Incident</th>\n",
       "      <th>Date</th>\n",
       "      <th>Incident Type</th>\n",
       "      <th>Address</th>\n",
       "      <th>geometry</th>\n",
       "    </tr>\n",
       "  </thead>\n",
       "  <tbody>\n",
       "    <tr>\n",
       "      <th>0</th>\n",
       "      <td>0</td>\n",
       "      <td>One Injured Following 8-foot Fall Into Open Grate</td>\n",
       "      <td>11/01/2021</td>\n",
       "      <td>Special Rescue</td>\n",
       "      <td>3800 Regent Street; Madison, WI</td>\n",
       "      <td>POINT (-89.438756 43.068087)</td>\n",
       "    </tr>\n",
       "    <tr>\n",
       "      <th>1</th>\n",
       "      <td>1</td>\n",
       "      <td>Fire Caused By Discarded Ashes Damages East Si...</td>\n",
       "      <td>11/01/2021</td>\n",
       "      <td>Trash/Rubbish</td>\n",
       "      <td>3800 Clover Lane; Madison, WI</td>\n",
       "      <td>POINT (-89.322563 43.086765)</td>\n",
       "    </tr>\n",
       "    <tr>\n",
       "      <th>2</th>\n",
       "      <td>2</td>\n",
       "      <td>One Person Rescued From Lake Monona</td>\n",
       "      <td>10/31/2021</td>\n",
       "      <td>Lake Rescue</td>\n",
       "      <td>10 John Nolen Drive; Madison, WI</td>\n",
       "      <td>POINT (-89.38597179999999 43.06628)</td>\n",
       "    </tr>\n",
       "    <tr>\n",
       "      <th>3</th>\n",
       "      <td>3</td>\n",
       "      <td>Dog perishes in early morning fire</td>\n",
       "      <td>10/29/2021</td>\n",
       "      <td>Structure</td>\n",
       "      <td>2900 Monroe St; Madison, WI</td>\n",
       "      <td>POINT (-89.430666 43.056119)</td>\n",
       "    </tr>\n",
       "    <tr>\n",
       "      <th>4</th>\n",
       "      <td>4</td>\n",
       "      <td>Natural Gas Leak Identified In S. Stoughton Ro...</td>\n",
       "      <td>10/20/2021</td>\n",
       "      <td>Gas Leak</td>\n",
       "      <td>2600 S. Stoughton Road; Madison, WI</td>\n",
       "      <td>POINT (-89.30913605303704 43.05826223453485)</td>\n",
       "    </tr>\n",
       "  </tbody>\n",
       "</table>\n",
       "</div>"
      ],
      "text/plain": [
       "   index                                           Incident        Date  \\\n",
       "0      0  One Injured Following 8-foot Fall Into Open Grate  11/01/2021   \n",
       "1      1  Fire Caused By Discarded Ashes Damages East Si...  11/01/2021   \n",
       "2      2                One Person Rescued From Lake Monona  10/31/2021   \n",
       "3      3                 Dog perishes in early morning fire  10/29/2021   \n",
       "4      4  Natural Gas Leak Identified In S. Stoughton Ro...  10/20/2021   \n",
       "\n",
       "    Incident Type                              Address  \\\n",
       "0  Special Rescue      3800 Regent Street; Madison, WI   \n",
       "1   Trash/Rubbish        3800 Clover Lane; Madison, WI   \n",
       "2     Lake Rescue     10 John Nolen Drive; Madison, WI   \n",
       "3       Structure          2900 Monroe St; Madison, WI   \n",
       "4        Gas Leak  2600 S. Stoughton Road; Madison, WI   \n",
       "\n",
       "                                       geometry  \n",
       "0                  POINT (-89.438756 43.068087)  \n",
       "1                  POINT (-89.322563 43.086765)  \n",
       "2           POINT (-89.38597179999999 43.06628)  \n",
       "3                  POINT (-89.430666 43.056119)  \n",
       "4  POINT (-89.30913605303704 43.05826223453485)  "
      ]
     },
     "execution_count": 62,
     "metadata": {},
     "output_type": "execute_result"
    }
   ],
   "source": [
    "df[\"geometry\"] = None\n",
    "\n",
    "for idx in df.index:\n",
    "    addr = df.at[idx, \"Address\"]\n",
    "    coord_df = gpd.tools.geocode(addr, provider=\"nominatim\", user_agent=\"cs320-tyler\")\n",
    "    coord = coord_df.at[0, \"geometry\"]\n",
    "    df.at[idx, \"geometry\"] = coord\n",
    "    print(addr, coord)\n",
    "    \n",
    "df.head()"
   ]
  },
  {
   "cell_type": "code",
   "execution_count": 65,
   "id": "e2e54f2b",
   "metadata": {},
   "outputs": [
    {
     "data": {
      "text/plain": [
       "pandas.core.frame.DataFrame"
      ]
     },
     "execution_count": 65,
     "metadata": {},
     "output_type": "execute_result"
    }
   ],
   "source": [
    "type(df)"
   ]
  },
  {
   "cell_type": "code",
   "execution_count": 64,
   "id": "8f45afe3",
   "metadata": {},
   "outputs": [
    {
     "data": {
      "text/plain": [
       "<AxesSubplot:>"
      ]
     },
     "execution_count": 64,
     "metadata": {},
     "output_type": "execute_result"
    },
    {
     "data": {
      "image/png": "[encoded data removed]",
      "text/plain": [
       "<Figure size 432x288 with 1 Axes>"
      ]
     },
     "metadata": {
      "needs_background": "light"
     },
     "output_type": "display_data"
    }
   ],
   "source": [
    "df.plot()"
   ]
  },
  {
   "cell_type": "code",
   "execution_count": 68,
   "id": "4b5202ef",
   "metadata": {},
   "outputs": [],
   "source": [
    "# 4. create GeoDataFrame\n",
    "\n",
    "# two major formats for geodata:\n",
    "# shapefiles (.shp)\n",
    "# geojson\n",
    "\n",
    "gdf = gpd.GeoDataFrame(df)\n",
    "gdf.to_file(\"fire.geojson\")"
   ]
  },
  {
   "cell_type": "code",
   "execution_count": 70,
   "id": "1ed38796",
   "metadata": {},
   "outputs": [
    {
     "data": {
      "text/plain": [
       "<AxesSubplot:>"
      ]
     },
     "execution_count": 70,
     "metadata": {},
     "output_type": "execute_result"
    },
    {
     "data": {
      "image/png": "[encoded data removed]",
      "text/plain": [
       "<Figure size 432x288 with 1 Axes>"
      ]
     },
     "metadata": {
      "needs_background": "light"
     },
     "output_type": "display_data"
    }
   ],
   "source": [
    "# 5. draw frame\n",
    "fire = gpd.read_file(\"fire.geojson\")\n",
    "fire.plot()"
   ]
  },
  {
   "cell_type": "code",
   "execution_count": 79,
   "id": "c62044bd",
   "metadata": {},
   "outputs": [
    {
     "data": {
      "text/plain": [
       "<AxesSubplot:>"
      ]
     },
     "execution_count": 79,
     "metadata": {},
     "output_type": "execute_result"
    },
    {
     "data": {
      "image/png": "[encoded data removed]",
      "text/plain": [
       "<Figure size 432x288 with 1 Axes>"
      ]
     },
     "metadata": {
      "needs_background": "light"
     },
     "output_type": "display_data"
    }
   ],
   "source": [
    "city = gpd.read_file(\"City_Limit.zip\")\n",
    "ax = city.plot(color=\"lightgray\")\n",
    "fire.intersection(city.unary_union).plot(ax=ax, color=\"red\")"
   ]
  },
  {
   "cell_type": "code",
   "execution_count": 74,
   "id": "fa2e1a89",
   "metadata": {},
   "outputs": [
    {
     "data": {
      "text/plain": [
       "(100, 4)"
      ]
     },
     "execution_count": 74,
     "metadata": {},
     "output_type": "execute_result"
    }
   ],
   "source": [
    "len(fire), len(city)"
   ]
  },
  {
   "cell_type": "code",
   "execution_count": null,
   "id": "2884418d",
   "metadata": {},
   "outputs": [],
   "source": [
    "# 6. create animation"
   ]
  }
 ],
 "metadata": {
  "kernelspec": {
   "display_name": "Python 3 (ipykernel)",
   "language": "python",
   "name": "python3"
  },
  "language_info": {
   "codemirror_mode": {
    "name": "ipython",
    "version": 3
   },
   "file_extension": ".py",
   "mimetype": "text/x-python",
   "name": "python",
   "nbconvert_exporter": "python",
   "pygments_lexer": "ipython3",
   "version": "3.8.10"
  }
 },
 "nbformat": 4,
 "nbformat_minor": 5
}
