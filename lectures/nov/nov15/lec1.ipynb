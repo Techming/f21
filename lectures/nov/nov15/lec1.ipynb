{
 "cells": [
  {
   "cell_type": "code",
   "execution_count": 4,
   "id": "8133655e",
   "metadata": {},
   "outputs": [],
   "source": [
    "# How can we get a clean dataset of COVID deaths in WI?\n",
    "import geopandas as gpd\n",
    "import os\n",
    "\n",
    "if not os.path.exists(\"covid.geojson\"):\n",
    "    print(\"DOWNLOADING\")\n",
    "    url = \"https://opendata.arcgis.com/datasets/559d482bad0643f69cbe1538243e0baa_9.geojson\"\n",
    "    df = gpd.read_file(url)\n",
    "    df.to_file(\"covid.geojson\", index=0)\n",
    "\n",
    "df = gpd.read_file(\"covid.geojson\")"
   ]
  },
  {
   "cell_type": "code",
   "execution_count": 7,
   "id": "3fce8b57",
   "metadata": {},
   "outputs": [
    {
     "data": {
      "text/plain": [
       "Index(['RptDt', 'GEOID', 'GEOName', 'POS_CUM_CP', 'POS_NEW_CP',\n",
       "       'POS_7DAYAVG_CP', 'DTH_CUM_CP', 'DTH_NEW_CP', 'DTH_7DAYAVG_CP',\n",
       "       'DTH_OVER_30DAYS_CP', 'DTH_CP_Daily', 'NEG_CUM', 'NEG_NEW',\n",
       "       'NEG_7DAYAVG', 'TESTS_CUM', 'TESTS_NEW', 'TESTS_7DAYAVG',\n",
       "       'POS_CUM_CONF', 'POS_NEW_CONF', 'POS_7DAYAVG_CONF', 'POS_CUM_PROB',\n",
       "       'POS_NEW_PROB', 'POS_7DAYAVG_PROB', 'DTH_CUM_CONF', 'DTH_NEW_CONF',\n",
       "       'DTH_7DAYAVG_CONF', 'DTH_CONF_Daily', 'DTH_CUM_PROB', 'DTH_NEW_PROB',\n",
       "       'DTH_7DAYAVG_PROB', 'DTH_PROB_Daily', 'POS_MALE_CP', 'POS_FEM_CP',\n",
       "       'POS_OTH_CP', 'POS_0_9_CP', 'POS_10_19_CP', 'POS_20_29_CP',\n",
       "       'POS_30_39_CP', 'POS_40_49_CP', 'POS_50_59_CP', 'POS_60_69_CP',\n",
       "       'POS_70_79_CP', 'POS_80_89_CP', 'POS_90_CP', 'DTHS_FEM_CP',\n",
       "       'DTHS_MALE_CP', 'DTHS_OTH_CP', 'DTHS_0_9_CP', 'DTHS_10_19_CP',\n",
       "       'DTHS_20_29_CP', 'DTHS_30_39_CP', 'DTHS_40_49_CP', 'DTHS_50_59_CP',\n",
       "       'DTHS_60_69_CP', 'DTHS_70_79_CP', 'DTHS_80_89_CP', 'DTHS_90_CP',\n",
       "       'POS_AIAN_CP', 'POS_ASN_CP', 'POS_BLK_CP', 'POS_WHT_CP',\n",
       "       'POS_MLTOTH_CP', 'POS_UNK_CP', 'POS_E_HSP_CP', 'POS_E_NHSP_CP',\n",
       "       'POS_E_UNK_CP', 'DTH_AIAN_CP', 'DTH_ASN_CP', 'DTH_BLK_CP', 'DTH_WHT_CP',\n",
       "       'DTH_MLTOTH_CP', 'DTH_UNK_CP', 'DTH_E_HSP_CP', 'DTH_E_NHSP_CP',\n",
       "       'DTH_E_UNK_CP', 'POS_HC_Y_CP', 'POS_HC_N_CP', 'POS_HC_UNK_CP',\n",
       "       'HOSP_YES_CP', 'HOSP_NO_CP', 'HOSP_UNK_CP', 'Date', 'POP', 'POP_MOE',\n",
       "       'OBJECTID', 'GEO', 'ShapeSTArea', 'ShapeSTLength', 'geometry'],\n",
       "      dtype='object')"
      ]
     },
     "execution_count": 7,
     "metadata": {},
     "output_type": "execute_result"
    }
   ],
   "source": [
    "df.columns"
   ]
  },
  {
   "cell_type": "code",
   "execution_count": null,
   "id": "7a9b209c",
   "metadata": {},
   "outputs": [],
   "source": [
    "# POP, POS_CUM_CP, POS_???_???_CP, DTH_CUM_CP"
   ]
  },
  {
   "cell_type": "code",
   "execution_count": 15,
   "id": "75a4b910",
   "metadata": {},
   "outputs": [],
   "source": [
    "# cleaning\n",
    "df = df[df[\"GEOID\"].str.fullmatch(r\"\\d+\")] # remove non tract data\n",
    "df.replace(-999, 2, inplace=True) # -999 means 0-4 (hidden for privacy reasons)"
   ]
  },
  {
   "cell_type": "code",
   "execution_count": 16,
   "id": "d4cae92a",
   "metadata": {},
   "outputs": [
    {
     "data": {
      "text/plain": [
       "<AxesSubplot:xlabel='POP', ylabel='DTH_CUM_CP'>"
      ]
     },
     "execution_count": 16,
     "metadata": {},
     "output_type": "execute_result"
    },
    {
     "data": {
      "image/png": "[encoded data removed]",
      "text/plain": [
       "<Figure size 432x288 with 1 Axes>"
      ]
     },
     "metadata": {
      "needs_background": "light"
     },
     "output_type": "display_data"
    }
   ],
   "source": [
    "df.plot.scatter(x=\"POP\", y=\"DTH_CUM_CP\")"
   ]
  },
  {
   "cell_type": "code",
   "execution_count": 9,
   "id": "71a44cc0",
   "metadata": {},
   "outputs": [
    {
     "data": {
      "text/html": [
       "<div>\n",
       "<style scoped>\n",
       "    .dataframe tbody tr th:only-of-type {\n",
       "        vertical-align: middle;\n",
       "    }\n",
       "\n",
       "    .dataframe tbody tr th {\n",
       "        vertical-align: top;\n",
       "    }\n",
       "\n",
       "    .dataframe thead th {\n",
       "        text-align: right;\n",
       "    }\n",
       "</style>\n",
       "<table border=\"1\" class=\"dataframe\">\n",
       "  <thead>\n",
       "    <tr style=\"text-align: right;\">\n",
       "      <th></th>\n",
       "      <th>RptDt</th>\n",
       "      <th>GEOID</th>\n",
       "      <th>GEOName</th>\n",
       "      <th>POS_CUM_CP</th>\n",
       "      <th>POS_NEW_CP</th>\n",
       "      <th>POS_7DAYAVG_CP</th>\n",
       "      <th>DTH_CUM_CP</th>\n",
       "      <th>DTH_NEW_CP</th>\n",
       "      <th>DTH_7DAYAVG_CP</th>\n",
       "      <th>DTH_OVER_30DAYS_CP</th>\n",
       "      <th>...</th>\n",
       "      <th>HOSP_NO_CP</th>\n",
       "      <th>HOSP_UNK_CP</th>\n",
       "      <th>Date</th>\n",
       "      <th>POP</th>\n",
       "      <th>POP_MOE</th>\n",
       "      <th>OBJECTID</th>\n",
       "      <th>GEO</th>\n",
       "      <th>ShapeSTArea</th>\n",
       "      <th>ShapeSTLength</th>\n",
       "      <th>geometry</th>\n",
       "    </tr>\n",
       "  </thead>\n",
       "  <tbody>\n",
       "    <tr>\n",
       "      <th>1203</th>\n",
       "      <td>2021-11-12T20:00:00+00:00</td>\n",
       "      <td>TRACT N/A</td>\n",
       "      <td>None</td>\n",
       "      <td>21657</td>\n",
       "      <td>88</td>\n",
       "      <td>66.86</td>\n",
       "      <td>276</td>\n",
       "      <td>0</td>\n",
       "      <td>1.0</td>\n",
       "      <td>0</td>\n",
       "      <td>...</td>\n",
       "      <td>10968</td>\n",
       "      <td>9477</td>\n",
       "      <td>2021-11-11T00:00:00+00:00</td>\n",
       "      <td>0</td>\n",
       "      <td>NaN</td>\n",
       "      <td>2982</td>\n",
       "      <td>Census tract</td>\n",
       "      <td>4.661914e+02</td>\n",
       "      <td>80.071546</td>\n",
       "      <td>POLYGON ((-87.04159 44.13490, -87.04161 44.134...</td>\n",
       "    </tr>\n",
       "    <tr>\n",
       "      <th>1372</th>\n",
       "      <td>2021-11-12T20:00:00+00:00</td>\n",
       "      <td>55135100600</td>\n",
       "      <td>None</td>\n",
       "      <td>930</td>\n",
       "      <td>5</td>\n",
       "      <td>2.86</td>\n",
       "      <td>46</td>\n",
       "      <td>0</td>\n",
       "      <td>0.0</td>\n",
       "      <td>0</td>\n",
       "      <td>...</td>\n",
       "      <td>459</td>\n",
       "      <td>419</td>\n",
       "      <td>2021-11-11T00:00:00+00:00</td>\n",
       "      <td>5071</td>\n",
       "      <td>238.0</td>\n",
       "      <td>3561</td>\n",
       "      <td>Census tract</td>\n",
       "      <td>3.632761e+08</td>\n",
       "      <td>100622.628105</td>\n",
       "      <td>POLYGON ((-89.06994 44.33802, -89.07060 44.338...</td>\n",
       "    </tr>\n",
       "    <tr>\n",
       "      <th>919</th>\n",
       "      <td>2021-11-12T20:00:00+00:00</td>\n",
       "      <td>55059000602</td>\n",
       "      <td>None</td>\n",
       "      <td>1267</td>\n",
       "      <td>5</td>\n",
       "      <td>2.29</td>\n",
       "      <td>40</td>\n",
       "      <td>0</td>\n",
       "      <td>0.0</td>\n",
       "      <td>0</td>\n",
       "      <td>...</td>\n",
       "      <td>478</td>\n",
       "      <td>703</td>\n",
       "      <td>2021-11-11T00:00:00+00:00</td>\n",
       "      <td>7708</td>\n",
       "      <td>532.0</td>\n",
       "      <td>2675</td>\n",
       "      <td>Census tract</td>\n",
       "      <td>1.468191e+07</td>\n",
       "      <td>18208.599197</td>\n",
       "      <td>POLYGON ((-87.84582 42.63908, -87.84604 42.639...</td>\n",
       "    </tr>\n",
       "    <tr>\n",
       "      <th>1385</th>\n",
       "      <td>2021-11-12T20:00:00+00:00</td>\n",
       "      <td>55133202202</td>\n",
       "      <td>None</td>\n",
       "      <td>1013</td>\n",
       "      <td>3</td>\n",
       "      <td>1.71</td>\n",
       "      <td>40</td>\n",
       "      <td>0</td>\n",
       "      <td>0.0</td>\n",
       "      <td>0</td>\n",
       "      <td>...</td>\n",
       "      <td>442</td>\n",
       "      <td>477</td>\n",
       "      <td>2021-11-11T00:00:00+00:00</td>\n",
       "      <td>5738</td>\n",
       "      <td>314.0</td>\n",
       "      <td>3602</td>\n",
       "      <td>Census tract</td>\n",
       "      <td>5.952951e+06</td>\n",
       "      <td>13537.586161</td>\n",
       "      <td>POLYGON ((-88.23580 43.01317, -88.23587 43.013...</td>\n",
       "    </tr>\n",
       "    <tr>\n",
       "      <th>68</th>\n",
       "      <td>2021-11-12T20:00:00+00:00</td>\n",
       "      <td>55101001502</td>\n",
       "      <td>None</td>\n",
       "      <td>1111</td>\n",
       "      <td>0</td>\n",
       "      <td>2.43</td>\n",
       "      <td>38</td>\n",
       "      <td>0</td>\n",
       "      <td>0.0</td>\n",
       "      <td>0</td>\n",
       "      <td>...</td>\n",
       "      <td>991</td>\n",
       "      <td>32</td>\n",
       "      <td>2021-11-11T00:00:00+00:00</td>\n",
       "      <td>6891</td>\n",
       "      <td>368.0</td>\n",
       "      <td>336</td>\n",
       "      <td>Census tract</td>\n",
       "      <td>2.466766e+07</td>\n",
       "      <td>24613.421935</td>\n",
       "      <td>POLYGON ((-87.79587 42.80634, -87.79851 42.806...</td>\n",
       "    </tr>\n",
       "  </tbody>\n",
       "</table>\n",
       "<p>5 rows × 89 columns</p>\n",
       "</div>"
      ],
      "text/plain": [
       "                          RptDt        GEOID GEOName  POS_CUM_CP  POS_NEW_CP  \\\n",
       "1203  2021-11-12T20:00:00+00:00    TRACT N/A    None       21657          88   \n",
       "1372  2021-11-12T20:00:00+00:00  55135100600    None         930           5   \n",
       "919   2021-11-12T20:00:00+00:00  55059000602    None        1267           5   \n",
       "1385  2021-11-12T20:00:00+00:00  55133202202    None        1013           3   \n",
       "68    2021-11-12T20:00:00+00:00  55101001502    None        1111           0   \n",
       "\n",
       "      POS_7DAYAVG_CP  DTH_CUM_CP  DTH_NEW_CP  DTH_7DAYAVG_CP  \\\n",
       "1203           66.86         276           0             1.0   \n",
       "1372            2.86          46           0             0.0   \n",
       "919             2.29          40           0             0.0   \n",
       "1385            1.71          40           0             0.0   \n",
       "68              2.43          38           0             0.0   \n",
       "\n",
       "      DTH_OVER_30DAYS_CP  ...  HOSP_NO_CP  HOSP_UNK_CP  \\\n",
       "1203                   0  ...       10968         9477   \n",
       "1372                   0  ...         459          419   \n",
       "919                    0  ...         478          703   \n",
       "1385                   0  ...         442          477   \n",
       "68                     0  ...         991           32   \n",
       "\n",
       "                           Date   POP  POP_MOE  OBJECTID           GEO  \\\n",
       "1203  2021-11-11T00:00:00+00:00     0      NaN      2982  Census tract   \n",
       "1372  2021-11-11T00:00:00+00:00  5071    238.0      3561  Census tract   \n",
       "919   2021-11-11T00:00:00+00:00  7708    532.0      2675  Census tract   \n",
       "1385  2021-11-11T00:00:00+00:00  5738    314.0      3602  Census tract   \n",
       "68    2021-11-11T00:00:00+00:00  6891    368.0       336  Census tract   \n",
       "\n",
       "       ShapeSTArea  ShapeSTLength  \\\n",
       "1203  4.661914e+02      80.071546   \n",
       "1372  3.632761e+08  100622.628105   \n",
       "919   1.468191e+07   18208.599197   \n",
       "1385  5.952951e+06   13537.586161   \n",
       "68    2.466766e+07   24613.421935   \n",
       "\n",
       "                                               geometry  \n",
       "1203  POLYGON ((-87.04159 44.13490, -87.04161 44.134...  \n",
       "1372  POLYGON ((-89.06994 44.33802, -89.07060 44.338...  \n",
       "919   POLYGON ((-87.84582 42.63908, -87.84604 42.639...  \n",
       "1385  POLYGON ((-88.23580 43.01317, -88.23587 43.013...  \n",
       "68    POLYGON ((-87.79587 42.80634, -87.79851 42.806...  \n",
       "\n",
       "[5 rows x 89 columns]"
      ]
     },
     "execution_count": 9,
     "metadata": {},
     "output_type": "execute_result"
    }
   ],
   "source": [
    "df.sort_values(by=\"DTH_CUM_CP\", ascending=False).head()"
   ]
  },
  {
   "cell_type": "code",
   "execution_count": 22,
   "id": "d4e3a1a3",
   "metadata": {},
   "outputs": [
    {
     "data": {
      "text/html": [
       "<div>\n",
       "<style scoped>\n",
       "    .dataframe tbody tr th:only-of-type {\n",
       "        vertical-align: middle;\n",
       "    }\n",
       "\n",
       "    .dataframe tbody tr th {\n",
       "        vertical-align: top;\n",
       "    }\n",
       "\n",
       "    .dataframe thead th {\n",
       "        text-align: right;\n",
       "    }\n",
       "</style>\n",
       "<table border=\"1\" class=\"dataframe\">\n",
       "  <thead>\n",
       "    <tr style=\"text-align: right;\">\n",
       "      <th></th>\n",
       "      <th>POP</th>\n",
       "    </tr>\n",
       "  </thead>\n",
       "  <tbody>\n",
       "    <tr>\n",
       "      <th>0</th>\n",
       "      <td>2243</td>\n",
       "    </tr>\n",
       "    <tr>\n",
       "      <th>1</th>\n",
       "      <td>5217</td>\n",
       "    </tr>\n",
       "    <tr>\n",
       "      <th>2</th>\n",
       "      <td>6787</td>\n",
       "    </tr>\n",
       "    <tr>\n",
       "      <th>3</th>\n",
       "      <td>3493</td>\n",
       "    </tr>\n",
       "    <tr>\n",
       "      <th>4</th>\n",
       "      <td>1463</td>\n",
       "    </tr>\n",
       "  </tbody>\n",
       "</table>\n",
       "</div>"
      ],
      "text/plain": [
       "    POP\n",
       "0  2243\n",
       "1  5217\n",
       "2  6787\n",
       "3  3493\n",
       "4  1463"
      ]
     },
     "execution_count": 22,
     "metadata": {},
     "output_type": "execute_result"
    }
   ],
   "source": [
    "# How can we train/fit models to known data to predict unknowns?\n",
    "\n",
    "# POP => DTH_CUM_CP\n",
    "\n",
    "# sklearn expects something like a DataFrame for the features(x)\n",
    "xcols = [\"POP\"]\n",
    "df[xcols].head()"
   ]
  },
  {
   "cell_type": "code",
   "execution_count": 23,
   "id": "fe2f2387",
   "metadata": {},
   "outputs": [
    {
     "data": {
      "text/plain": [
       "0     0\n",
       "1     6\n",
       "2    19\n",
       "3     7\n",
       "4     0\n",
       "Name: DTH_CUM_CP, dtype: int64"
      ]
     },
     "execution_count": 23,
     "metadata": {},
     "output_type": "execute_result"
    }
   ],
   "source": [
    "# sklearn expects something like a Series for the label(y)\n",
    "ycol = \"DTH_CUM_CP\"\n",
    "df[ycol].head()"
   ]
  },
  {
   "cell_type": "code",
   "execution_count": 36,
   "id": "ad74dacf",
   "metadata": {},
   "outputs": [
    {
     "data": {
      "text/html": [
       "<div>\n",
       "<style scoped>\n",
       "    .dataframe tbody tr th:only-of-type {\n",
       "        vertical-align: middle;\n",
       "    }\n",
       "\n",
       "    .dataframe tbody tr th {\n",
       "        vertical-align: top;\n",
       "    }\n",
       "\n",
       "    .dataframe thead th {\n",
       "        text-align: right;\n",
       "    }\n",
       "</style>\n",
       "<table border=\"1\" class=\"dataframe\">\n",
       "  <thead>\n",
       "    <tr style=\"text-align: right;\">\n",
       "      <th></th>\n",
       "      <th>POP</th>\n",
       "      <th>predict_death</th>\n",
       "    </tr>\n",
       "  </thead>\n",
       "  <tbody>\n",
       "    <tr>\n",
       "      <th>0</th>\n",
       "      <td>1000</td>\n",
       "      <td>2.525213</td>\n",
       "    </tr>\n",
       "    <tr>\n",
       "      <th>1</th>\n",
       "      <td>2000</td>\n",
       "      <td>3.867524</td>\n",
       "    </tr>\n",
       "  </tbody>\n",
       "</table>\n",
       "</div>"
      ],
      "text/plain": [
       "    POP  predict_death\n",
       "0  1000       2.525213\n",
       "1  2000       3.867524"
      ]
     },
     "execution_count": 36,
     "metadata": {},
     "output_type": "execute_result"
    }
   ],
   "source": [
    "import pandas as pd\n",
    "from sklearn.linear_model import LinearRegression\n",
    "\n",
    "model = LinearRegression()\n",
    "model.fit(df[xcols], df[ycol]) # fit means train\n",
    "\n",
    "predict_df = pd.DataFrame({\n",
    "    \"POP\": [1000, 2000]\n",
    "})\n",
    "predict_df[\"predict_death\"] = model.predict(predict_df[xcols]) # what y values are estimated\n",
    "predict_df"
   ]
  },
  {
   "cell_type": "code",
   "execution_count": 28,
   "id": "106477b4",
   "metadata": {},
   "outputs": [
    {
     "data": {
      "text/html": [
       "<div>\n",
       "<style scoped>\n",
       "    .dataframe tbody tr th:only-of-type {\n",
       "        vertical-align: middle;\n",
       "    }\n",
       "\n",
       "    .dataframe tbody tr th {\n",
       "        vertical-align: top;\n",
       "    }\n",
       "\n",
       "    .dataframe thead th {\n",
       "        text-align: right;\n",
       "    }\n",
       "</style>\n",
       "<table border=\"1\" class=\"dataframe\">\n",
       "  <thead>\n",
       "    <tr style=\"text-align: right;\">\n",
       "      <th></th>\n",
       "      <th>POP</th>\n",
       "      <th>predict_death</th>\n",
       "    </tr>\n",
       "  </thead>\n",
       "  <tbody>\n",
       "    <tr>\n",
       "      <th>0</th>\n",
       "      <td>0</td>\n",
       "      <td>1.182903</td>\n",
       "    </tr>\n",
       "    <tr>\n",
       "      <th>1</th>\n",
       "      <td>1000</td>\n",
       "      <td>2.525213</td>\n",
       "    </tr>\n",
       "    <tr>\n",
       "      <th>2</th>\n",
       "      <td>2000</td>\n",
       "      <td>3.867524</td>\n",
       "    </tr>\n",
       "    <tr>\n",
       "      <th>3</th>\n",
       "      <td>3000</td>\n",
       "      <td>5.209834</td>\n",
       "    </tr>\n",
       "    <tr>\n",
       "      <th>4</th>\n",
       "      <td>4000</td>\n",
       "      <td>6.552145</td>\n",
       "    </tr>\n",
       "  </tbody>\n",
       "</table>\n",
       "</div>"
      ],
      "text/plain": [
       "    POP  predict_death\n",
       "0     0       1.182903\n",
       "1  1000       2.525213\n",
       "2  2000       3.867524\n",
       "3  3000       5.209834\n",
       "4  4000       6.552145"
      ]
     },
     "execution_count": 28,
     "metadata": {},
     "output_type": "execute_result"
    }
   ],
   "source": [
    "# How can we visualize model predictions?\n",
    "predict_df = pd.DataFrame({\n",
    "    \"POP\": range(0, 20000, 1000)\n",
    "})\n",
    "predict_df[\"predict_death\"] = model.predict(predict_df) # what y values are estimated\n",
    "predict_df.head()"
   ]
  },
  {
   "cell_type": "code",
   "execution_count": 33,
   "id": "2b83098b",
   "metadata": {},
   "outputs": [
    {
     "data": {
      "text/plain": [
       "<AxesSubplot:xlabel='POP', ylabel='DTH_CUM_CP'>"
      ]
     },
     "execution_count": 33,
     "metadata": {},
     "output_type": "execute_result"
    },
    {
     "data": {
      "image/png": "[encoded data removed]",
      "text/plain": [
       "<Figure size 432x288 with 1 Axes>"
      ]
     },
     "metadata": {
      "needs_background": "light"
     },
     "output_type": "display_data"
    }
   ],
   "source": [
    "ax = predict_df.plot.line(x=\"POP\", y=\"predict_death\", color=\"red\")\n",
    "df.plot.scatter(x=\"POP\", y=\"DTH_CUM_CP\", ax=ax, color=\"black\", alpha=0.1)"
   ]
  },
  {
   "cell_type": "code",
   "execution_count": null,
   "id": "87df5ce7",
   "metadata": {},
   "outputs": [],
   "source": [
    "# How can we get a formula for the relationship?"
   ]
  },
  {
   "cell_type": "code",
   "execution_count": null,
   "id": "2ac21824",
   "metadata": {},
   "outputs": [],
   "source": [
    "# How well does our model fit the data?"
   ]
  },
  {
   "cell_type": "code",
   "execution_count": null,
   "id": "c2971e6f",
   "metadata": {},
   "outputs": [],
   "source": [
    "# Did our model learn or memorize (that is, \"overfit\")?"
   ]
  },
  {
   "cell_type": "code",
   "execution_count": null,
   "id": "14d04a52",
   "metadata": {},
   "outputs": [],
   "source": [
    "# How can we minimize noise due to random train/test splits?"
   ]
  },
  {
   "cell_type": "code",
   "execution_count": null,
   "id": "9a646412",
   "metadata": {},
   "outputs": [],
   "source": [
    "# How can we compare models?"
   ]
  },
  {
   "cell_type": "code",
   "execution_count": null,
   "id": "f6dee6ab",
   "metadata": {},
   "outputs": [],
   "source": [
    "# How can we use multiple x variables (multiple regression)?"
   ]
  },
  {
   "cell_type": "code",
   "execution_count": null,
   "id": "9885cacf",
   "metadata": {},
   "outputs": [],
   "source": [
    "# How can we interpret what features the model is relying on?"
   ]
  }
 ],
 "metadata": {
  "kernelspec": {
   "display_name": "Python 3 (ipykernel)",
   "language": "python",
   "name": "python3"
  },
  "language_info": {
   "codemirror_mode": {
    "name": "ipython",
    "version": 3
   },
   "file_extension": ".py",
   "mimetype": "text/x-python",
   "name": "python",
   "nbconvert_exporter": "python",
   "pygments_lexer": "ipython3",
   "version": "3.8.10"
  }
 },
 "nbformat": 4,
 "nbformat_minor": 5
}
