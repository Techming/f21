{
 "cells": [
  {
   "cell_type": "code",
   "execution_count": 3,
   "id": "4595052e",
   "metadata": {},
   "outputs": [],
   "source": [
    "import matplotlib.pyplot as plt"
   ]
  },
  {
   "cell_type": "code",
   "execution_count": 20,
   "id": "ebc054a9",
   "metadata": {},
   "outputs": [
    {
     "data": {
      "text/plain": [
       "<matplotlib.patches.Circle at 0x7f776b523eb0>"
      ]
     },
     "execution_count": 20,
     "metadata": {},
     "output_type": "execute_result"
    },
    {
     "data": {
      "image/png": "[encoded data removed]",
      "text/plain": [
       "<Figure size 432x288 with 1 Axes>"
      ]
     },
     "metadata": {
      "needs_background": "light"
     },
     "output_type": "display_data"
    }
   ],
   "source": [
    "fig, ax = plt.subplots()\n",
    "p = plt.Circle((0.5,0.5), 0.1, facecolor=\"none\", edgecolor=\"red\", linewidth=3)\n",
    "ax.add_artist(p)"
   ]
  },
  {
   "cell_type": "code",
   "execution_count": 11,
   "id": "a2190ed0",
   "metadata": {},
   "outputs": [
    {
     "data": {
      "text/plain": [
       "(matplotlib.patches.Circle,\n",
       " matplotlib.patches.Ellipse,\n",
       " matplotlib.patches.Patch,\n",
       " matplotlib.artist.Artist,\n",
       " object)"
      ]
     },
     "execution_count": 11,
     "metadata": {},
     "output_type": "execute_result"
    }
   ],
   "source": [
    "type(p).__mro__"
   ]
  },
  {
   "cell_type": "code",
   "execution_count": 40,
   "id": "3239aa32",
   "metadata": {},
   "outputs": [],
   "source": [
    "%config InlineBackend.print_figure_kwargs={\"bbox_inches\": None}"
   ]
  },
  {
   "cell_type": "code",
   "execution_count": 60,
   "id": "24e52d1a",
   "metadata": {},
   "outputs": [
    {
     "name": "stdout",
     "output_type": "stream",
     "text": [
      "[112.58181818 101.232     ]\n",
      "72.0\n",
      "1.5636363636363635 1.406\n"
     ]
    },
    {
     "data": {
      "image/png": "[encoded data removed]",
      "text/plain": [
       "<Figure size 576x288 with 2 Axes>"
      ]
     },
     "metadata": {
      "needs_background": "light"
     },
     "output_type": "display_data"
    }
   ],
   "source": [
    "fig, (ax1, ax2) = plt.subplots(ncols=2, figsize=(8, 4))\n",
    "ax2.set_xlim(-1, 3)\n",
    "\n",
    "def rel_circle(area, x, y):\n",
    "    p = plt.Circle((x,y), 0.1,\n",
    "                   facecolor=\"none\", edgecolor=\"red\", linewidth=3)\n",
    "    area.add_artist(p)\n",
    "    \n",
    "def abs_circle(area, x, y):\n",
    "    p = plt.Circle((x,y), 0.5,\n",
    "                   facecolor=\"none\", edgecolor=\"blue\", linewidth=2,\n",
    "                   transform=fig.dpi_scale_trans)\n",
    "    area.add_artist(p)\n",
    "\n",
    "# drawing an axes subplots\n",
    "rel_circle(ax1, 0.5, 0.5)\n",
    "rel_circle(ax2, 0.5, 0.5)\n",
    "\n",
    "# draw on the figure\n",
    "# coord system for fig: 0,0 is bottom left, 1,1 is top right\n",
    "rel_circle(fig, 0.5, 0.5)\n",
    "\n",
    "# draw centered circle on the figure (in absolute terms)\n",
    "abs_circle(fig, 4, 2)\n",
    "abs_circle(ax2, 7, 2)\n",
    "\n",
    "# what if we want a truly round circle at point 0.2,0.3 on the left ax object?\n",
    "print(ax1.transData.transform((0.2,0.3))) # this is in absolute dot/pixels\n",
    "print(fig.dpi) # how many dots/pixels per inch?\n",
    "x, y = ax1.transData.transform((0.2,0.3)) / fig.dpi\n",
    "print(x, y) # absolute inches of that data point\n",
    "abs_circle(ax1, x, y)"
   ]
  },
  {
   "cell_type": "code",
   "execution_count": 61,
   "id": "e32e80f2",
   "metadata": {},
   "outputs": [
    {
     "data": {
      "text/html": [
       "<div>\n",
       "<style scoped>\n",
       "    .dataframe tbody tr th:only-of-type {\n",
       "        vertical-align: middle;\n",
       "    }\n",
       "\n",
       "    .dataframe tbody tr th {\n",
       "        vertical-align: top;\n",
       "    }\n",
       "\n",
       "    .dataframe thead th {\n",
       "        text-align: right;\n",
       "    }\n",
       "</style>\n",
       "<table border=\"1\" class=\"dataframe\">\n",
       "  <thead>\n",
       "    <tr style=\"text-align: right;\">\n",
       "      <th></th>\n",
       "      <th>x</th>\n",
       "      <th>y</th>\n",
       "      <th>a</th>\n",
       "    </tr>\n",
       "  </thead>\n",
       "  <tbody>\n",
       "    <tr>\n",
       "      <th>0</th>\n",
       "      <td>2</td>\n",
       "      <td>5</td>\n",
       "      <td>90</td>\n",
       "    </tr>\n",
       "    <tr>\n",
       "      <th>1</th>\n",
       "      <td>3</td>\n",
       "      <td>1</td>\n",
       "      <td>0</td>\n",
       "    </tr>\n",
       "    <tr>\n",
       "      <th>2</th>\n",
       "      <td>6</td>\n",
       "      <td>6</td>\n",
       "      <td>45</td>\n",
       "    </tr>\n",
       "    <tr>\n",
       "      <th>3</th>\n",
       "      <td>8</td>\n",
       "      <td>1</td>\n",
       "      <td>180</td>\n",
       "    </tr>\n",
       "  </tbody>\n",
       "</table>\n",
       "</div>"
      ],
      "text/plain": [
       "   x  y    a\n",
       "0  2  5   90\n",
       "1  3  1    0\n",
       "2  6  6   45\n",
       "3  8  1  180"
      ]
     },
     "execution_count": 61,
     "metadata": {},
     "output_type": "execute_result"
    }
   ],
   "source": [
    "# for later...\n",
    "import pandas as pd\n",
    "df = pd.DataFrame([\n",
    "    {\"x\":2, \"y\":5, \"a\": 90},\n",
    "    {\"x\":3, \"y\":1, \"a\": 0},\n",
    "    {\"x\":6, \"y\":6, \"a\": 45},\n",
    "    {\"x\":8, \"y\":1, \"a\": 180}\n",
    "])\n",
    "df"
   ]
  },
  {
   "cell_type": "code",
   "execution_count": 62,
   "id": "4fbaf81f",
   "metadata": {},
   "outputs": [
    {
     "data": {
      "text/plain": [
       "<AxesSubplot:xlabel='x', ylabel='y'>"
      ]
     },
     "execution_count": 62,
     "metadata": {},
     "output_type": "execute_result"
    },
    {
     "data": {
      "image/png": "[encoded data removed]",
      "text/plain": [
       "<Figure size 432x288 with 1 Axes>"
      ]
     },
     "metadata": {
      "needs_background": "light"
     },
     "output_type": "display_data"
    }
   ],
   "source": [
    "df.plot.scatter(x=\"x\", y=\"y\")"
   ]
  },
  {
   "cell_type": "code",
   "execution_count": 80,
   "id": "0b9e2b93",
   "metadata": {},
   "outputs": [
    {
     "data": {
      "text/html": [
       "<div>\n",
       "<style scoped>\n",
       "    .dataframe tbody tr th:only-of-type {\n",
       "        vertical-align: middle;\n",
       "    }\n",
       "\n",
       "    .dataframe tbody tr th {\n",
       "        vertical-align: top;\n",
       "    }\n",
       "\n",
       "    .dataframe thead th {\n",
       "        text-align: right;\n",
       "    }\n",
       "</style>\n",
       "<table border=\"1\" class=\"dataframe\">\n",
       "  <thead>\n",
       "    <tr style=\"text-align: right;\">\n",
       "      <th></th>\n",
       "      <th>x</th>\n",
       "      <th>y</th>\n",
       "      <th>a</th>\n",
       "    </tr>\n",
       "  </thead>\n",
       "  <tbody>\n",
       "    <tr>\n",
       "      <th>0</th>\n",
       "      <td>2</td>\n",
       "      <td>5</td>\n",
       "      <td>90</td>\n",
       "    </tr>\n",
       "    <tr>\n",
       "      <th>1</th>\n",
       "      <td>3</td>\n",
       "      <td>1</td>\n",
       "      <td>0</td>\n",
       "    </tr>\n",
       "    <tr>\n",
       "      <th>2</th>\n",
       "      <td>6</td>\n",
       "      <td>6</td>\n",
       "      <td>45</td>\n",
       "    </tr>\n",
       "    <tr>\n",
       "      <th>3</th>\n",
       "      <td>8</td>\n",
       "      <td>1</td>\n",
       "      <td>180</td>\n",
       "    </tr>\n",
       "  </tbody>\n",
       "</table>\n",
       "</div>"
      ],
      "text/plain": [
       "   x  y    a\n",
       "0  2  5   90\n",
       "1  3  1    0\n",
       "2  6  6   45\n",
       "3  8  1  180"
      ]
     },
     "execution_count": 80,
     "metadata": {},
     "output_type": "execute_result"
    }
   ],
   "source": [
    "df"
   ]
  },
  {
   "cell_type": "code",
   "execution_count": 84,
   "id": "4c4db424",
   "metadata": {},
   "outputs": [
    {
     "name": "stdout",
     "output_type": "stream",
     "text": [
      "2 5\n",
      "3 1\n",
      "6 6\n",
      "8 1\n"
     ]
    },
    {
     "data": {
      "image/png": "[encoded data removed]",
      "text/plain": [
       "<Figure size 432x288 with 1 Axes>"
      ]
     },
     "metadata": {
      "needs_background": "light"
     },
     "output_type": "display_data"
    }
   ],
   "source": [
    "import math\n",
    "\n",
    "fig, ax = plt.subplots()\n",
    "ax.set_xlim(0,10)\n",
    "ax.set_ylim(-3,10)\n",
    "\n",
    "for t in df.itertuples():\n",
    "    print(t.x, t.y)\n",
    "    angle = math.radians(t.a)\n",
    "    x, y = ax.transData.transform((t.x, t.y)) / fig.dpi\n",
    "    arrow = plt.Arrow(x, y,\n",
    "                      math.sin(angle)*0.5, math.cos(angle)*0.5,\n",
    "                      transform=fig.dpi_scale_trans)\n",
    "    ax.add_artist(arrow)"
   ]
  },
  {
   "cell_type": "markdown",
   "id": "0a9cc3c4",
   "metadata": {},
   "source": [
    "# Example 2: plot with some annotations"
   ]
  },
  {
   "cell_type": "code",
   "execution_count": 97,
   "id": "4f81169f",
   "metadata": {},
   "outputs": [
    {
     "data": {
      "text/plain": [
       "<AxesSubplot:>"
      ]
     },
     "execution_count": 97,
     "metadata": {},
     "output_type": "execute_result"
    },
    {
     "data": {
      "image/png": "[encoded data removed]",
      "text/plain": [
       "<Figure size 432x288 with 1 Axes>"
      ]
     },
     "metadata": {
      "needs_background": "light"
     },
     "output_type": "display_data"
    }
   ],
   "source": [
    "import numpy as np\n",
    "df = pd.DataFrame({\n",
    "    \"A\": np.random.normal(10, 5, 100),\n",
    "    \"B\": np.random.normal(15, 5, 100)\n",
    "}).cumsum()\n",
    "df.plot.line()"
   ]
  },
  {
   "cell_type": "code",
   "execution_count": 98,
   "id": "a3d7a23b",
   "metadata": {},
   "outputs": [
    {
     "data": {
      "text/plain": [
       "Text(50, 1000, 'hi')"
      ]
     },
     "execution_count": 98,
     "metadata": {},
     "output_type": "execute_result"
    },
    {
     "data": {
      "image/png": "[encoded data removed]",
      "text/plain": [
       "<Figure size 432x288 with 1 Axes>"
      ]
     },
     "metadata": {
      "needs_background": "light"
     },
     "output_type": "display_data"
    }
   ],
   "source": [
    "ax = df.plot.line()\n",
    "ax.text(50, 1000, \"hi\")"
   ]
  }
 ],
 "metadata": {
  "kernelspec": {
   "display_name": "Python 3 (ipykernel)",
   "language": "python",
   "name": "python3"
  },
  "language_info": {
   "codemirror_mode": {
    "name": "ipython",
    "version": 3
   },
   "file_extension": ".py",
   "mimetype": "text/x-python",
   "name": "python",
   "nbconvert_exporter": "python",
   "pygments_lexer": "ipython3",
   "version": "3.8.10"
  }
 },
 "nbformat": 4,
 "nbformat_minor": 5
}
